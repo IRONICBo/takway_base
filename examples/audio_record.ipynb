{
 "cells": [
  {
   "cell_type": "markdown",
   "metadata": {},
   "source": [
    "## 1. 基础录音功能(录制固定时长的音频)"
   ]
  },
  {
   "cell_type": "code",
   "execution_count": 1,
   "metadata": {},
   "outputs": [
    {
     "name": "stderr",
     "output_type": "stream",
     "text": [
      "g:\\workspace\\codeworkspace\\gpt_projects\\vits_project\\vits-uma-genshin-honkai\\takway\\board\\sipeed.py:15: UserWarning: gpiod package is not available.\n",
      "  warnings.warn(\"gpiod package is not available.\")\n",
      "g:\\workspace\\codeworkspace\\gpt_projects\\vits_project\\vits-uma-genshin-honkai\\takway\\audio_utils.py:346: UserWarning: webrtcvad module not found, please install it if use `vad` hd_trigger.\n",
      "  warnings.warn(\"webrtcvad module not found, please install it if use `vad` hd_trigger.\")\n"
     ]
    },
    {
     "name": "stdout",
     "output_type": "stream",
     "text": [
      "Recording started.\n",
      "Recording stopped.\n"
     ]
    }
   ],
   "source": [
    "from takway.audio_utils import BaseRecorder\n",
    "\n",
    "recorder = BaseRecorder()\n",
    "recorder.record(\"my_recording.wav\", # 保存为my_recording.wav文件\n",
    "                duration=5)         # 录音的时长为5秒"
   ]
  },
  {
   "cell_type": "markdown",
   "metadata": {},
   "source": [
    "## 2. 按键录音功能"
   ]
  },
  {
   "cell_type": "code",
   "execution_count": 5,
   "metadata": {},
   "outputs": [
    {
     "name": "stdout",
     "output_type": "stream",
     "text": [
      "Using keyboard as hardware trigger.\n",
      "Recording started for hardware trigger.\n",
      "Waiting for hardware trigger.\n",
      "Recording stopped.\n"
     ]
    },
    {
     "data": {
      "text/plain": [
       "'hd_recording.wav'"
      ]
     },
     "execution_count": 5,
     "metadata": {},
     "output_type": "execute_result"
    }
   ],
   "source": [
    "from takway.audio_utils import HDRecorder\n",
    "\n",
    "recorder = HDRecorder(filename=\"hd_recording.wav\")\n",
    "\n",
    "recorder.record_hardware(return_type='io')"
   ]
  },
  {
   "cell_type": "markdown",
   "metadata": {},
   "source": []
  },
  {
   "cell_type": "code",
   "execution_count": null,
   "metadata": {},
   "outputs": [],
   "source": []
  }
 ],
 "metadata": {
  "kernelspec": {
   "display_name": "vits",
   "language": "python",
   "name": "python3"
  },
  "language_info": {
   "codemirror_mode": {
    "name": "ipython",
    "version": 3
   },
   "file_extension": ".py",
   "mimetype": "text/x-python",
   "name": "python",
   "nbconvert_exporter": "python",
   "pygments_lexer": "ipython3",
   "version": "3.8.18"
  }
 },
 "nbformat": 4,
 "nbformat_minor": 2
}
