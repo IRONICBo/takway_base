{
 "cells": [
  {
   "cell_type": "code",
   "execution_count": 1,
   "metadata": {},
   "outputs": [
    {
     "name": "stderr",
     "output_type": "stream",
     "text": [
      "g:\\workspace\\codeworkspace\\gpt_projects\\vits_project\\vits-uma-genshin-honkai\\takway\\audio_utils.py:19: UserWarning: gpiod module not found, please install it if use `button` hd_trigger.\n",
      "  warnings.warn(\"gpiod module not found, please install it if use `button` hd_trigger.\")\n",
      "g:\\workspace\\codeworkspace\\gpt_projects\\vits_project\\vits-uma-genshin-honkai\\takway\\audio_utils.py:347: UserWarning: webrtcvad module not found, please install it if use `vad` hd_trigger.\n",
      "  warnings.warn(\"webrtcvad module not found, please install it if use `vad` hd_trigger.\")\n"
     ]
    },
    {
     "name": "stdout",
     "output_type": "stream",
     "text": [
      "If you want to use the speaker diarization, please `pip install hdbscan`\n"
     ]
    },
    {
     "name": "stderr",
     "output_type": "stream",
     "text": [
      "d:\\CodeSoftWare\\Anaconda\\anaconda3\\envs\\vits\\lib\\site-packages\\tqdm\\auto.py:21: TqdmWarning: IProgress not found. Please update jupyter and ipywidgets. See https://ipywidgets.readthedocs.io/en/stable/user_install.html\n",
      "  from .autonotebook import tqdm as notebook_tqdm\n"
     ]
    }
   ],
   "source": [
    "from takway.audio_utils import BaseRecorder\n",
    "from takway.stt.funasr_utils import FunAutoSpeechRecognizer"
   ]
  },
  {
   "cell_type": "code",
   "execution_count": 8,
   "metadata": {},
   "outputs": [
    {
     "name": "stderr",
     "output_type": "stream",
     "text": [
      "WARNING:root:No STT config file provided, using default config.\n"
     ]
    },
    {
     "name": "stdout",
     "output_type": "stream",
     "text": [
      "Audio file loaded.\n",
      "\n",
      "tables: \n",
      "\n",
      "-----------    ** dataset_classes **    --------------\n",
      "| class name   | class location                                                                                              |\n",
      "| AudioDataset | d:\\CodeSoftWare\\Anaconda\\anaconda3\\envs\\vits\\lib\\site-packages\\funasr\\datasets\\audio_datasets\\datasets.py:8 |\n",
      "-----------    ** index_ds_classes **    --------------\n",
      "| class name            | class location                                                                                               |\n",
      "| IndexDSJsonlRankFull  | d:\\CodeSoftWare\\Anaconda\\anaconda3\\envs\\vits\\lib\\site-packages\\funasr\\datasets\\audio_datasets\\index_ds.py:75 |\n",
      "| IndexDSJsonlRankFull  | d:\\CodeSoftWare\\Anaconda\\anaconda3\\envs\\vits\\lib\\site-packages\\funasr\\datasets\\audio_datasets\\index_ds.py:75 |\n",
      "| IndexDSJsonlRankSplit | d:\\CodeSoftWare\\Anaconda\\anaconda3\\envs\\vits\\lib\\site-packages\\funasr\\datasets\\audio_datasets\\index_ds.py:13 |\n",
      "-----------    ** preprocessor_classes **    --------------\n",
      "| class name                   | class location                                                                                                   |\n",
      "| SpeechPreprocessSpeedPerturb | d:\\CodeSoftWare\\Anaconda\\anaconda3\\envs\\vits\\lib\\site-packages\\funasr\\datasets\\audio_datasets\\preprocessor.py:19 |\n",
      "| TextPreprocessSegDict        | d:\\CodeSoftWare\\Anaconda\\anaconda3\\envs\\vits\\lib\\site-packages\\funasr\\datasets\\audio_datasets\\preprocessor.py:39 |\n",
      "-----------    ** batch_sampler_classes **    --------------\n",
      "| class name                              | class location                                                                                                |\n",
      "| BatchSampler                            | d:\\CodeSoftWare\\Anaconda\\anaconda3\\envs\\vits\\lib\\site-packages\\funasr\\datasets\\audio_datasets\\samplers.py:10  |\n",
      "| RankFullLocalShuffleBatchSampler        | d:\\CodeSoftWare\\Anaconda\\anaconda3\\envs\\vits\\lib\\site-packages\\funasr\\datasets\\audio_datasets\\samplers.py:90  |\n",
      "| RankFullLocalShuffleBatchSampler        | d:\\CodeSoftWare\\Anaconda\\anaconda3\\envs\\vits\\lib\\site-packages\\funasr\\datasets\\audio_datasets\\samplers.py:90  |\n",
      "| RankFullLocalShuffleDynamicBatchSampler | d:\\CodeSoftWare\\Anaconda\\anaconda3\\envs\\vits\\lib\\site-packages\\funasr\\datasets\\audio_datasets\\samplers.py:182 |\n",
      "-----------    ** frontend_classes **    --------------\n",
      "| class name        | class location                                                                                      |\n",
      "| WavFrontend       | d:\\CodeSoftWare\\Anaconda\\anaconda3\\envs\\vits\\lib\\site-packages\\funasr\\frontends\\wav_frontend.py:79  |\n",
      "| WavFrontendOnline | d:\\CodeSoftWare\\Anaconda\\anaconda3\\envs\\vits\\lib\\site-packages\\funasr\\frontends\\wav_frontend.py:217 |\n",
      "-----------    ** joint_network_classes **    --------------\n",
      "| class name   | class location                                                                                              |\n",
      "| JointNetwork | d:\\CodeSoftWare\\Anaconda\\anaconda3\\envs\\vits\\lib\\site-packages\\funasr\\models\\transducer\\joint_network.py:13 |\n",
      "-----------    ** model_classes **    --------------\n",
      "| class name             | class location                                                                                                    |\n",
      "| BAT                    | d:\\CodeSoftWare\\Anaconda\\anaconda3\\envs\\vits\\lib\\site-packages\\funasr\\models\\bat\\model.py:36                      |\n",
      "| BiCifParaformer        | d:\\CodeSoftWare\\Anaconda\\anaconda3\\envs\\vits\\lib\\site-packages\\funasr\\models\\bicif_paraformer\\model.py:38         |\n",
      "| Branchformer           | d:\\CodeSoftWare\\Anaconda\\anaconda3\\envs\\vits\\lib\\site-packages\\funasr\\models\\branchformer\\model.py:7              |\n",
      "| CAMPPlus               | d:\\CodeSoftWare\\Anaconda\\anaconda3\\envs\\vits\\lib\\site-packages\\funasr\\models\\campplus\\model.py:31                 |\n",
      "| CTTransformer          | d:\\CodeSoftWare\\Anaconda\\anaconda3\\envs\\vits\\lib\\site-packages\\funasr\\models\\ct_transformer\\model.py:31           |\n",
      "| CTTransformerStreaming | d:\\CodeSoftWare\\Anaconda\\anaconda3\\envs\\vits\\lib\\site-packages\\funasr\\models\\ct_transformer_streaming\\model.py:28 |\n",
      "| Conformer              | d:\\CodeSoftWare\\Anaconda\\anaconda3\\envs\\vits\\lib\\site-packages\\funasr\\models\\conformer\\model.py:9                 |\n",
      "| ContextualParaformer   | d:\\CodeSoftWare\\Anaconda\\anaconda3\\envs\\vits\\lib\\site-packages\\funasr\\models\\contextual_paraformer\\model.py:44    |\n",
      "| EBranchformer          | d:\\CodeSoftWare\\Anaconda\\anaconda3\\envs\\vits\\lib\\site-packages\\funasr\\models\\e_branchformer\\model.py:7            |\n",
      "| Emotion2vec            | d:\\CodeSoftWare\\Anaconda\\anaconda3\\envs\\vits\\lib\\site-packages\\funasr\\models\\emotion2vec\\model.py:35              |\n",
      "| FsmnVADStreaming       | d:\\CodeSoftWare\\Anaconda\\anaconda3\\envs\\vits\\lib\\site-packages\\funasr\\models\\fsmn_vad_streaming\\model.py:268      |\n",
      "| MonotonicAligner       | d:\\CodeSoftWare\\Anaconda\\anaconda3\\envs\\vits\\lib\\site-packages\\funasr\\models\\monotonic_aligner\\model.py:25        |\n",
      "| Paraformer             | d:\\CodeSoftWare\\Anaconda\\anaconda3\\envs\\vits\\lib\\site-packages\\funasr\\models\\paraformer\\model.py:27               |\n",
      "| ParaformerStreaming    | d:\\CodeSoftWare\\Anaconda\\anaconda3\\envs\\vits\\lib\\site-packages\\funasr\\models\\paraformer_streaming\\model.py:38     |\n",
      "| SANM                   | d:\\CodeSoftWare\\Anaconda\\anaconda3\\envs\\vits\\lib\\site-packages\\funasr\\models\\sanm\\model.py:14                     |\n",
      "| SCAMA                  | d:\\CodeSoftWare\\Anaconda\\anaconda3\\envs\\vits\\lib\\site-packages\\funasr\\models\\scama\\model.py:39                    |\n",
      "| SeacoParaformer        | d:\\CodeSoftWare\\Anaconda\\anaconda3\\envs\\vits\\lib\\site-packages\\funasr\\models\\seaco_paraformer\\model.py:46         |\n",
      "| Transducer             | d:\\CodeSoftWare\\Anaconda\\anaconda3\\envs\\vits\\lib\\site-packages\\funasr\\models\\transducer\\model.py:35               |\n",
      "| Transformer            | d:\\CodeSoftWare\\Anaconda\\anaconda3\\envs\\vits\\lib\\site-packages\\funasr\\models\\transformer\\model.py:21              |\n",
      "| UniASR                 | d:\\CodeSoftWare\\Anaconda\\anaconda3\\envs\\vits\\lib\\site-packages\\funasr\\models\\uniasr\\model.py:26                   |\n",
      "| Whisper                | d:\\CodeSoftWare\\Anaconda\\anaconda3\\envs\\vits\\lib\\site-packages\\funasr\\models\\whisper\\model.py:201                 |\n",
      "-----------    ** predictor_classes **    --------------\n",
      "| class name     | class location                                                                                                    |\n",
      "| CifPredictor   | d:\\CodeSoftWare\\Anaconda\\anaconda3\\envs\\vits\\lib\\site-packages\\funasr\\models\\paraformer\\cif_predictor.py:16       |\n",
      "| CifPredictorV2 | d:\\CodeSoftWare\\Anaconda\\anaconda3\\envs\\vits\\lib\\site-packages\\funasr\\models\\paraformer\\cif_predictor.py:142      |\n",
      "| CifPredictorV3 | d:\\CodeSoftWare\\Anaconda\\anaconda3\\envs\\vits\\lib\\site-packages\\funasr\\models\\bicif_paraformer\\cif_predictor.py:96 |\n",
      "-----------    ** encoder_classes **    --------------\n",
      "| class name            | class location                                                                                                       |\n",
      "| AudioEncoder          | d:\\CodeSoftWare\\Anaconda\\anaconda3\\envs\\vits\\lib\\site-packages\\funasr\\models\\whisper\\model.py:135                    |\n",
      "| BranchformerEncoder   | d:\\CodeSoftWare\\Anaconda\\anaconda3\\envs\\vits\\lib\\site-packages\\funasr\\models\\branchformer\\encoder.py:295             |\n",
      "| ConformerChunkEncoder | d:\\CodeSoftWare\\Anaconda\\anaconda3\\envs\\vits\\lib\\site-packages\\funasr\\models\\conformer\\encoder.py:894                |\n",
      "| ConformerEncoder      | d:\\CodeSoftWare\\Anaconda\\anaconda3\\envs\\vits\\lib\\site-packages\\funasr\\models\\conformer\\encoder.py:288                |\n",
      "| DFSMN                 | d:\\CodeSoftWare\\Anaconda\\anaconda3\\envs\\vits\\lib\\site-packages\\funasr\\models\\fsmn_vad_streaming\\encoder.py:233       |\n",
      "| EBranchformerEncoder  | d:\\CodeSoftWare\\Anaconda\\anaconda3\\envs\\vits\\lib\\site-packages\\funasr\\models\\e_branchformer\\encoder.py:178           |\n",
      "| FSMN                  | d:\\CodeSoftWare\\Anaconda\\anaconda3\\envs\\vits\\lib\\site-packages\\funasr\\models\\fsmn_vad_streaming\\encoder.py:162       |\n",
      "| RWKVEncoder           | d:\\CodeSoftWare\\Anaconda\\anaconda3\\envs\\vits\\lib\\site-packages\\funasr\\models\\rwkv_bat\\rwkv_encoder.py:17             |\n",
      "| SANMEncoder           | d:\\CodeSoftWare\\Anaconda\\anaconda3\\envs\\vits\\lib\\site-packages\\funasr\\models\\sanm\\encoder.py:162                     |\n",
      "| SANMEncoderChunkOpt   | d:\\CodeSoftWare\\Anaconda\\anaconda3\\envs\\vits\\lib\\site-packages\\funasr\\models\\scama\\encoder.py:163                    |\n",
      "| SANMVadEncoder        | d:\\CodeSoftWare\\Anaconda\\anaconda3\\envs\\vits\\lib\\site-packages\\funasr\\models\\ct_transformer_streaming\\encoder.py:149 |\n",
      "| TransformerEncoder    | d:\\CodeSoftWare\\Anaconda\\anaconda3\\envs\\vits\\lib\\site-packages\\funasr\\models\\transformer\\encoder.py:140              |\n",
      "-----------    ** decoder_classes **    --------------\n",
      "| class name                                 | class location                                                                                                    |\n",
      "| ContextualParaformerDecoder                | d:\\CodeSoftWare\\Anaconda\\anaconda3\\envs\\vits\\lib\\site-packages\\funasr\\models\\contextual_paraformer\\decoder.py:104 |\n",
      "| DynamicConvolution2DTransformerDecoder     | d:\\CodeSoftWare\\Anaconda\\anaconda3\\envs\\vits\\lib\\site-packages\\funasr\\models\\sa_asr\\transformer_decoder.py:704    |\n",
      "| DynamicConvolutionTransformerDecoder       | d:\\CodeSoftWare\\Anaconda\\anaconda3\\envs\\vits\\lib\\site-packages\\funasr\\models\\sa_asr\\transformer_decoder.py:643    |\n",
      "| FsmnDecoder                                | d:\\CodeSoftWare\\Anaconda\\anaconda3\\envs\\vits\\lib\\site-packages\\funasr\\models\\sanm\\decoder.py:199                  |\n",
      "| FsmnDecoderSCAMAOpt                        | d:\\CodeSoftWare\\Anaconda\\anaconda3\\envs\\vits\\lib\\site-packages\\funasr\\models\\scama\\decoder.py:198                 |\n",
      "| LightweightConvolution2DTransformerDecoder | d:\\CodeSoftWare\\Anaconda\\anaconda3\\envs\\vits\\lib\\site-packages\\funasr\\models\\sa_asr\\transformer_decoder.py:581    |\n",
      "| LightweightConvolutionTransformerDecoder   | d:\\CodeSoftWare\\Anaconda\\anaconda3\\envs\\vits\\lib\\site-packages\\funasr\\models\\sa_asr\\transformer_decoder.py:520    |\n",
      "| ParaformerDecoderSAN                       | d:\\CodeSoftWare\\Anaconda\\anaconda3\\envs\\vits\\lib\\site-packages\\funasr\\models\\sa_asr\\transformer_decoder.py:406    |\n",
      "| ParaformerSANDecoder                       | d:\\CodeSoftWare\\Anaconda\\anaconda3\\envs\\vits\\lib\\site-packages\\funasr\\models\\paraformer\\decoder.py:530            |\n",
      "| ParaformerSANMDecoder                      | d:\\CodeSoftWare\\Anaconda\\anaconda3\\envs\\vits\\lib\\site-packages\\funasr\\models\\paraformer\\decoder.py:205            |\n",
      "| RNNDecoder                                 | d:\\CodeSoftWare\\Anaconda\\anaconda3\\envs\\vits\\lib\\site-packages\\funasr\\models\\transducer\\rnn_decoder.py:87         |\n",
      "| RNNTDecoder                                | d:\\CodeSoftWare\\Anaconda\\anaconda3\\envs\\vits\\lib\\site-packages\\funasr\\models\\transducer\\rnnt_decoder.py:15        |\n",
      "| TextDecoder                                | d:\\CodeSoftWare\\Anaconda\\anaconda3\\envs\\vits\\lib\\site-packages\\funasr\\models\\whisper\\model.py:166                 |\n",
      "| TransformerDecoder                         | d:\\CodeSoftWare\\Anaconda\\anaconda3\\envs\\vits\\lib\\site-packages\\funasr\\models\\sa_asr\\transformer_decoder.py:357    |\n",
      "-----------    ** normalize_classes **    --------------\n",
      "| class name   | class location                                                                                            |\n",
      "| GlobalMVN    | d:\\CodeSoftWare\\Anaconda\\anaconda3\\envs\\vits\\lib\\site-packages\\funasr\\models\\normalize\\global_mvn.py:12   |\n",
      "| UtteranceMVN | d:\\CodeSoftWare\\Anaconda\\anaconda3\\envs\\vits\\lib\\site-packages\\funasr\\models\\normalize\\utterance_mvn.py:9 |\n",
      "-----------    ** specaug_classes **    --------------\n",
      "| class name | class location                                                                                      |\n",
      "| SpecAug    | d:\\CodeSoftWare\\Anaconda\\anaconda3\\envs\\vits\\lib\\site-packages\\funasr\\models\\specaug\\specaug.py:15  |\n",
      "| SpecAugLFR | d:\\CodeSoftWare\\Anaconda\\anaconda3\\envs\\vits\\lib\\site-packages\\funasr\\models\\specaug\\specaug.py:105 |\n",
      "-----------    ** tokenizer_classes **    --------------\n",
      "| class name              | class location                                                                                                |\n",
      "| CharTokenizer           | d:\\CodeSoftWare\\Anaconda\\anaconda3\\envs\\vits\\lib\\site-packages\\funasr\\tokenizer\\char_tokenizer.py:12          |\n",
      "| SentencepiecesTokenizer | d:\\CodeSoftWare\\Anaconda\\anaconda3\\envs\\vits\\lib\\site-packages\\funasr\\tokenizer\\sentencepiece_tokenizer.py:12 |\n",
      "\n",
      "\n"
     ]
    },
    {
     "name": "stderr",
     "output_type": "stream",
     "text": [
      "2024-04-07 17:24:32,863 - modelscope - WARNING - Model revision not specified, use revision: v2.0.4\n"
     ]
    },
    {
     "name": "stdout",
     "output_type": "stream",
     "text": [
      "ckpt: C:\\Users\\Irving Gao\\.cache\\modelscope\\hub\\damo\\speech_paraformer-large_asr_nat-zh-cn-16k-common-vocab8404-online\\model.pt\n"
     ]
    },
    {
     "name": "stderr",
     "output_type": "stream",
     "text": [
      "rtf_avg: 0.130: 100%|\u001b[34m██████████\u001b[0m| 1/1 [00:00<00:00, 15.26it/s]                                                                                          \n"
     ]
    },
    {
     "name": "stdout",
     "output_type": "stream",
     "text": [
      "init ASR model done.\n"
     ]
    },
    {
     "name": "stderr",
     "output_type": "stream",
     "text": [
      "rtf_avg: 0.133: 100%|\u001b[34m██████████\u001b[0m| 1/1 [00:00<00:00, 15.28it/s]                                                                                          \n",
      "rtf_avg: 0.197: 100%|\u001b[34m██████████\u001b[0m| 1/1 [00:00<00:00, 10.36it/s]                                                                                          \n",
      "rtf_avg: 0.195: 100%|\u001b[34m██████████\u001b[0m| 1/1 [00:00<00:00, 10.33it/s]                                                                                          \n",
      "rtf_avg: 0.207: 100%|\u001b[34m██████████\u001b[0m| 1/1 [00:00<00:00,  9.90it/s]                                                                                          \n",
      "rtf_avg: 0.198: 100%|\u001b[34m██████████\u001b[0m| 1/1 [00:00<00:00, 10.17it/s]                                                                                          \n",
      "rtf_avg: 0.146: 100%|\u001b[34m██████████\u001b[0m| 1/1 [00:00<00:00, 13.78it/s]                                                                                          \n",
      "rtf_avg: 0.225: 100%|\u001b[34m██████████\u001b[0m| 1/1 [00:00<00:00,  9.03it/s]                                                                                          \n",
      "rtf_avg: 0.236: 100%|\u001b[34m██████████\u001b[0m| 1/1 [00:00<00:00,  8.52it/s]                                                                                          \n",
      "rtf_avg: 0.277: 100%|\u001b[34m██████████\u001b[0m| 1/1 [00:00<00:00,  7.34it/s]                                                                                          \n",
      "rtf_avg: 0.203: 100%|\u001b[34m██████████\u001b[0m| 1/1 [00:00<00:00,  9.96it/s]                                                                                          \n",
      "rtf_avg: 0.607: 100%|\u001b[34m██████████\u001b[0m| 1/1 [00:00<00:00,  8.90it/s]                                                                                          "
     ]
    },
    {
     "name": "stdout",
     "output_type": "stream",
     "text": [
      "text_dict: {'text': ['', '啊', '你吃', '什么', '饭晚', '', '上我想', '吃红', '烧', '肉和', '兰州牛肉'], 'is_end': True}\n",
      "Transcription is correct!\n"
     ]
    },
    {
     "name": "stderr",
     "output_type": "stream",
     "text": [
      "\n"
     ]
    }
   ],
   "source": [
    "def asr_file_stream(file_path='./example_recording.wav'):\n",
    "    rec = BaseRecorder()\n",
    "    \n",
    "    data = rec.load_audio_file(file_path)\n",
    "        \n",
    "    asr = FunAutoSpeechRecognizer()\n",
    "\n",
    "    text_dict = asr.streaming_recognize(data, auto_det_end=True)\n",
    "    print(f\"text_dict: {text_dict}\")\n",
    "    \n",
    "    transcription = ''.join(text_dict['text'])\n",
    "    assert transcription == '啊你吃什么饭晚上我想吃红烧肉和兰州牛肉'\n",
    "    print('Transcription is correct!')\n",
    "\n",
    "asr_file_stream()"
   ]
  },
  {
   "cell_type": "code",
   "execution_count": null,
   "metadata": {},
   "outputs": [],
   "source": []
  }
 ],
 "metadata": {
  "kernelspec": {
   "display_name": "vits",
   "language": "python",
   "name": "python3"
  },
  "language_info": {
   "codemirror_mode": {
    "name": "ipython",
    "version": 3
   },
   "file_extension": ".py",
   "mimetype": "text/x-python",
   "name": "python",
   "nbconvert_exporter": "python",
   "pygments_lexer": "ipython3",
   "version": "3.8.18"
  }
 },
 "nbformat": 4,
 "nbformat_minor": 2
}
