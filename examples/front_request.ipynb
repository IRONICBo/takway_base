{
 "cells": [
  {
   "cell_type": "markdown",
   "metadata": {},
   "source": [
    "## 1. 创建session"
   ]
  },
  {
   "cell_type": "code",
   "execution_count": 2,
   "metadata": {},
   "outputs": [
    {
     "name": "stdout",
     "output_type": "stream",
     "text": [
      "{'message': 'Session created or updated', 'uid': '1234567890'}\n"
     ]
    }
   ],
   "source": [
    "import requests\n",
    "import json\n",
    "\n",
    "# 定义会话的唯一标识符\n",
    "uid = \"1234567890\"\n",
    "\n",
    "# 定义会话服务的URL\n",
    "url = \"http://121.41.224.27:8000/session\"\n",
    "\n",
    "# 构建请求体\n",
    "session_data = {\n",
    "    \"uid\": uid\n",
    "}\n",
    "\n",
    "# 发送POST请求\n",
    "response = requests.post(\n",
    "    url=url,\n",
    "    headers={\"Content-Type\": \"application/json\"},\n",
    "    data=json.dumps(session_data)\n",
    ")\n",
    "\n",
    "# 打印响应\n",
    "print(response.json())"
   ]
  },
  {
   "cell_type": "markdown",
   "metadata": {},
   "source": [
    "## 2. 发送文本请求"
   ]
  },
  {
   "cell_type": "code",
   "execution_count": 3,
   "metadata": {},
   "outputs": [
    {
     "name": "stdout",
     "output_type": "stream",
     "text": [
      "{'text': '你好！请问有什么问题我可以帮您解答吗？', 'meta_info': {'uid': '1234567890', 'voice_synthesize': False}, 'audio_path': ''}\n"
     ]
    }
   ],
   "source": [
    "import requests\n",
    "\n",
    "# 定义会话服务的URL\n",
    "url = \"http://121.41.224.27:8000/chat\"\n",
    "\n",
    "text_message = \"你好\"\n",
    "# 构建请求体\n",
    "chat_data = {\n",
    "    \"text\": text_message,\n",
    "    \"meta_info\": json.dumps({\"uid\": uid, \"voice_synthesize\": False}),\n",
    "    \"audio\": None\n",
    "}\n",
    "\n",
    "# 发送文本POST请求\n",
    "text_response = requests.post(\n",
    "    url=url,\n",
    "    headers={\"Content-Type\": \"application/x-www-form-urlencoded\"},\n",
    "    data=chat_data\n",
    ")\n",
    "\n",
    "# 检查响应状态码\n",
    "if text_response.status_code == 200:\n",
    "    # 打印响应内容\n",
    "    print(text_response.json())\n",
    "else:\n",
    "    # 打印错误信息\n",
    "    print(f\"Error: {text_response.status_code}\")"
   ]
  },
  {
   "cell_type": "markdown",
   "metadata": {},
   "source": [
    "## 3. 发送语音wav请求（code有问题，待修复）"
   ]
  },
  {
   "cell_type": "code",
   "execution_count": 5,
   "metadata": {},
   "outputs": [
    {
     "name": "stdout",
     "output_type": "stream",
     "text": [
      "{'detail': 'There was an error parsing the body'}\n"
     ]
    }
   ],
   "source": [
    "import requests\n",
    "\n",
    "# 假设'my_recording.wav'是文件系统中的一个有效文件路径\n",
    "audio_file_path = 'example_recording.wav'\n",
    "\n",
    "# 读取语音文件内容\n",
    "with open(audio_file_path, 'rb') as audio_file:\n",
    "    audio_data = audio_file.read()\n",
    "\n",
    "# 构建请求体\n",
    "chat_data = {\n",
    "    'meta_info': json.dumps({\"uid\": \"some_unique_id\", \"voice_synthesize\": False})\n",
    "}\n",
    "\n",
    "# 定义分隔边界\n",
    "boundary = 'your_unique_boundary'\n",
    "\n",
    "# 构建请求头\n",
    "headers = {\n",
    "    'Content-Type': f'multipart/form-data; boundary={boundary}'\n",
    "}\n",
    "\n",
    "# 构建请求体\n",
    "payload = {\n",
    "    'audio': ('my_recording.wav', audio_data, 'audio/wav'),\n",
    "    'text': (None, None),  # 如果不需要发送文本，可以省略这部分\n",
    "    'meta_info': (None, json.dumps(chat_data), 'application/json')\n",
    "}\n",
    "\n",
    "# 发送语音文件POST请求\n",
    "audio_response = requests.post(\n",
    "    url=url,\n",
    "    headers=headers,\n",
    "    files=payload\n",
    ")\n",
    "\n",
    "# 打印语音响应\n",
    "print(audio_response.json())"
   ]
  },
  {
   "cell_type": "code",
   "execution_count": null,
   "metadata": {},
   "outputs": [],
   "source": []
  }
 ],
 "metadata": {
  "kernelspec": {
   "display_name": "vits",
   "language": "python",
   "name": "python3"
  },
  "language_info": {
   "codemirror_mode": {
    "name": "ipython",
    "version": 3
   },
   "file_extension": ".py",
   "mimetype": "text/x-python",
   "name": "python",
   "nbconvert_exporter": "python",
   "pygments_lexer": "ipython3",
   "version": "3.8.18"
  }
 },
 "nbformat": 4,
 "nbformat_minor": 2
}
