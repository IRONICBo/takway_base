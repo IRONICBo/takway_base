{
 "cells": [
  {
   "cell_type": "code",
   "execution_count": 3,
   "metadata": {},
   "outputs": [],
   "source": [
    "\n",
    "\n",
    "from takway.tts.vits_utils import TextToSpeech"
   ]
  },
  {
   "cell_type": "code",
   "execution_count": 4,
   "metadata": {},
   "outputs": [
    {
     "name": "stdout",
     "output_type": "stream",
     "text": [
      "model_path: ../vits_model\n",
      "----------------------------------\n",
      "INFO:root:Loaded checkpoint '../vits_model\\G_953000.pth' (iteration 630)\n",
      "VITS Audio saved to example.wav\n"
     ]
    }
   ],
   "source": [
    "def text2audio_example():\n",
    "    length = 1.0\n",
    "    \n",
    "    # speaker_id = 87 # 神里绫华（龟龟）\n",
    "    speaker_id = 92 # 芭芭拉\n",
    "    # speaker_id = 103\n",
    "    # speaker_id=111 # 成熟甜\n",
    "    # speaker_id=125  # 成熟深沉\n",
    "    # speaker_id=132  # 成熟冷酷\n",
    "    \n",
    "    example_text = \"晚上好呀！今天怎么看起来这么累，刚回来就趴着不动了。\"\n",
    "    text='你好呀,我不知道该怎么告诉你这件事，但是我真的很需要你。'\n",
    "    speaker_id=103\n",
    "    noise_scale=0.1\n",
    "    noise_scale_w=0.668\n",
    "    length_scale=1.2\n",
    "    file_name='example.wav'\n",
    "    model_path=\"../vits_model\"\n",
    "    \n",
    "    tts = TextToSpeech(model_path, device='cuda')  # 初始化，设定使用的设备\n",
    "    sr, audio = tts.synthesize(text, 0, speaker_id, noise_scale, noise_scale_w, length_scale)  # 生成语音\n",
    "    tts.save_audio(audio, sr, file_name=file_name)  # 保存语音文件\n",
    "    \n",
    "text2audio_example()\n"
   ]
  },
  {
   "cell_type": "code",
   "execution_count": null,
   "metadata": {},
   "outputs": [],
   "source": []
  },
  {
   "cell_type": "code",
   "execution_count": null,
   "metadata": {},
   "outputs": [],
   "source": []
  }
 ],
 "metadata": {
  "kernelspec": {
   "display_name": "vits",
   "language": "python",
   "name": "python3"
  },
  "language_info": {
   "codemirror_mode": {
    "name": "ipython",
    "version": 3
   },
   "file_extension": ".py",
   "mimetype": "text/x-python",
   "name": "python",
   "nbconvert_exporter": "python",
   "pygments_lexer": "ipython3",
   "version": "3.8.18"
  }
 },
 "nbformat": 4,
 "nbformat_minor": 2
}
